{
 "cells": [
  {
   "cell_type": "code",
   "execution_count": 1,
   "id": "a3eaba74-bc50-4c3e-98e8-d3c6186d6776",
   "metadata": {},
   "outputs": [
    {
     "name": "stdout",
     "output_type": "stream",
     "text": [
      "1. Add a contact\n",
      "2. View contact list\n",
      "3. Search contact\n",
      "4. Update contact\n",
      "5. Delete contact\n",
      "6. Exit\n"
     ]
    },
    {
     "name": "stdin",
     "output_type": "stream",
     "text": [
      "Enter your choice:  1\n",
      "Enter name:  sumit singh\n",
      "Enter phone number:  1478529630\n",
      "Enter email:  sumits1478@gmail.com\n"
     ]
    },
    {
     "name": "stdout",
     "output_type": "stream",
     "text": [
      "Contact added successfully!\n",
      "1. Add a contact\n",
      "2. View contact list\n",
      "3. Search contact\n",
      "4. Update contact\n",
      "5. Delete contact\n",
      "6. Exit\n"
     ]
    },
    {
     "name": "stdin",
     "output_type": "stream",
     "text": [
      "Enter your choice:  2\n"
     ]
    },
    {
     "name": "stdout",
     "output_type": "stream",
     "text": [
      "Contact 1:\n",
      "Name: sumit singh\n",
      "Phone: 1478529630\n",
      "Email: sumits1478@gmail.com\n",
      "\n",
      "1. Add a contact\n",
      "2. View contact list\n",
      "3. Search contact\n",
      "4. Update contact\n",
      "5. Delete contact\n",
      "6. Exit\n"
     ]
    },
    {
     "name": "stdin",
     "output_type": "stream",
     "text": [
      "Enter your choice:  3\n",
      "Enter name to search:  sumit singh\n"
     ]
    },
    {
     "name": "stdout",
     "output_type": "stream",
     "text": [
      "Found contacts:\n",
      "Name: sumit singh\n",
      "Phone: 1478529630\n",
      "Email: sumits1478@gmail.com\n",
      "\n",
      "1. Add a contact\n",
      "2. View contact list\n",
      "3. Search contact\n",
      "4. Update contact\n",
      "5. Delete contact\n",
      "6. Exit\n"
     ]
    },
    {
     "name": "stdin",
     "output_type": "stream",
     "text": [
      "Enter your choice:  4\n",
      "Enter name to update:  golu singh\n",
      "Enter new phone number:  2587419630\n",
      "Enter new email:  golus25874@gmail.com\n"
     ]
    },
    {
     "name": "stdout",
     "output_type": "stream",
     "text": [
      "Contact not found.\n",
      "1. Add a contact\n",
      "2. View contact list\n",
      "3. Search contact\n",
      "4. Update contact\n",
      "5. Delete contact\n",
      "6. Exit\n"
     ]
    },
    {
     "name": "stdin",
     "output_type": "stream",
     "text": [
      "Enter your choice:  5\n",
      "Enter name to delete:  sumit singh\n"
     ]
    },
    {
     "name": "stdout",
     "output_type": "stream",
     "text": [
      "Contact deleted successfully!\n",
      "1. Add a contact\n",
      "2. View contact list\n",
      "3. Search contact\n",
      "4. Update contact\n",
      "5. Delete contact\n",
      "6. Exit\n"
     ]
    },
    {
     "name": "stdin",
     "output_type": "stream",
     "text": [
      "Enter your choice:  6\n"
     ]
    },
    {
     "name": "stdout",
     "output_type": "stream",
     "text": [
      "Exiting contact book.\n"
     ]
    }
   ],
   "source": [
    "class Contact:\n",
    "    def __init__(self, name, phone_number, email):\n",
    "        self.name = name\n",
    "        self.phone_number = phone_number\n",
    "        self.email = email\n",
    "\n",
    "class ContactBook:\n",
    "    def __init__(self):\n",
    "        self.contacts = []\n",
    "\n",
    "    def add_contact(self, contact):\n",
    "        self.contacts.append(contact)\n",
    "        print(\"Contact added successfully!\")\n",
    "\n",
    "    def display_contacts(self):\n",
    "        if self.contacts:\n",
    "            for index, contact in enumerate(self.contacts):\n",
    "                print(f\"Contact {index+1}:\")\n",
    "                print(f\"Name: {contact.name}\")\n",
    "                print(f\"Phone: {contact.phone_number}\")\n",
    "                print(f\"Email: {contact.email}\")\n",
    "                print()\n",
    "        else:\n",
    "            print(\"Contact book is empty.\")\n",
    "\n",
    "    def search_contact(self, name):\n",
    "        found_contacts = [contact for contact in self.contacts if name.lower() in contact.name.lower()]\n",
    "        if found_contacts:\n",
    "            print(\"Found contacts:\")\n",
    "            for contact in found_contacts:\n",
    "                print(f\"Name: {contact.name}\")\n",
    "                print(f\"Phone: {contact.phone_number}\")\n",
    "                print(f\"Email: {contact.email}\")\n",
    "                print()\n",
    "        else:\n",
    "            print(\"No contacts found with that name.\")\n",
    "\n",
    "    def update_contact(self, name, new_phone_number, new_email):\n",
    "        for contact in self.contacts:\n",
    "            if name.lower() == contact.name.lower():\n",
    "                contact.phone_number = new_phone_number\n",
    "                contact.email = new_email\n",
    "                print(\"Contact updated successfully!\")\n",
    "                return\n",
    "        print(\"Contact not found.\")\n",
    "\n",
    "    def delete_contact(self, name):\n",
    "        for contact in self.contacts:\n",
    "            if name.lower() == contact.name.lower():\n",
    "                self.contacts.remove(contact)\n",
    "                print(\"Contact deleted successfully!\")\n",
    "                return\n",
    "        print(\"Contact not found.\")\n",
    "\n",
    "def main():\n",
    "    contact_book = ContactBook()\n",
    "\n",
    "    while True:\n",
    "        print(\"1. Add a contact\")\n",
    "        print(\"2. View contact list\")\n",
    "        print(\"3. Search contact\")\n",
    "        print(\"4. Update contact\")\n",
    "        print(\"5. Delete contact\")\n",
    "        print(\"6. Exit\")\n",
    "\n",
    "        choice = input(\"Enter your choice: \")\n",
    "\n",
    "        if choice == '1':\n",
    "            name = input(\"Enter name: \")\n",
    "            phone_number = input(\"Enter phone number: \")\n",
    "            email = input(\"Enter email: \")\n",
    "            contact = Contact(name, phone_number, email)\n",
    "            contact_book.add_contact(contact)\n",
    "        elif choice == '2':\n",
    "            contact_book.display_contacts()\n",
    "        elif choice == '3':\n",
    "            name = input(\"Enter name to search: \")\n",
    "            contact_book.search_contact(name)\n",
    "        elif choice == '4':\n",
    "            name = input(\"Enter name to update: \")\n",
    "            new_phone_number = input(\"Enter new phone number: \")\n",
    "            new_email = input(\"Enter new email: \")\n",
    "            contact_book.update_contact(name, new_phone_number, new_email)\n",
    "        elif choice == '5':\n",
    "            name = input(\"Enter name to delete: \")\n",
    "            contact_book.delete_contact(name)\n",
    "        elif choice == '6':\n",
    "            print(\"Exiting contact book.\")\n",
    "            break\n",
    "        else:\n",
    "            print(\"Invalid choice. Please try again.\")\n",
    "\n",
    "if __name__ == \"__main__\":\n",
    "    main()\n"
   ]
  },
  {
   "cell_type": "code",
   "execution_count": null,
   "id": "eec502fa-9306-4a95-b0c9-a8b8c7f02757",
   "metadata": {},
   "outputs": [],
   "source": []
  }
 ],
 "metadata": {
  "kernelspec": {
   "display_name": "Python 3 (ipykernel)",
   "language": "python",
   "name": "python3"
  },
  "language_info": {
   "codemirror_mode": {
    "name": "ipython",
    "version": 3
   },
   "file_extension": ".py",
   "mimetype": "text/x-python",
   "name": "python",
   "nbconvert_exporter": "python",
   "pygments_lexer": "ipython3",
   "version": "3.11.7"
  }
 },
 "nbformat": 4,
 "nbformat_minor": 5
}
